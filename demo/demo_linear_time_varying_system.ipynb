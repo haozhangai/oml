{
 "cells": [
  {
   "cell_type": "markdown",
   "metadata": {},
   "source": [
    "\"\"\"\n",
    "An example to demonstrate online linear system identification\n",
    "\n",
    "We demonstrate the use of OnlineLinearModel class with a simple linear system.\n",
    "Take a 2D time-varying system dx/dt=A(t)x(t)+B(t)u(t), where A(t) and B(t)\n",
    "are slowly varying with time. In particular, we take A(t)=(1+eps*t)*A,\n",
    "B(t)=(1+eps*t)*B, and eps = 0.1 is small. It is discretize with\n",
    "time step dt = 0.1. Denote the discrete system as x(k+1)=A(k)x(k)+\n",
    "B(k)u(k).\n",
    "\n",
    "At time step k+1, we need to include new snapshot pair x(k), u(k), x(k+1).\n",
    "We would like to update the adaptive model in real-time\n",
    "\n",
    "Authors: \n",
    "Hao Zhang\n",
    "\n",
    "References:\n",
    "Zhang, Hao, Clarence W. Rowley, Eric A. Deem, and Louis N. Cattafesta.\n",
    "\"Online dynamic mode decomposition for time-varying systems.\"\n",
    "SIAM Journal on Applied Dynamical Systems 18, no. 3 (2019): 1586-1609.\n",
    "\n",
    "Created:\n",
    "June 2017.\n",
    "\"\"\""
   ]
  },
  {
   "cell_type": "code",
   "execution_count": null,
   "metadata": {},
   "outputs": [],
   "source": [
    "!pip install -r requirements.txt"
   ]
  },
  {
   "cell_type": "code",
   "execution_count": null,
   "metadata": {},
   "outputs": [],
   "source": [
    "!pip list"
   ]
  },
  {
   "cell_type": "code",
   "execution_count": null,
   "metadata": {},
   "outputs": [],
   "source": [
    "import matplotlib.pyplot as plt\n",
    "import numpy as np\n",
    "from osysid import OnlineLinearModel\n",
    "from control import lqr, StateSpace, ctrb"
   ]
  },
  {
   "cell_type": "code",
   "execution_count": null,
   "metadata": {},
   "outputs": [],
   "source": [
    "# define dynamics, negative damping -> unstable\n",
    "# https://en.wikipedia.org/wiki/Harmonic_oscillator#Damped_harmonic_oscillator\n",
    "n = 2\n",
    "k = 1\n",
    "A = np.array([[0, 1], [-1, 0.2]])\n",
    "B = np.array([[0], [1]])\n",
    "C = np.eye(n)\n",
    "D = np.zeros((n, k))\n",
    "\n",
    "# check poles\n",
    "sys = StateSpace(A, B, np.eye(n), np.zeros((n, k)))\n",
    "print(f\"open loop poles: {sys.pole()}\")\n",
    "\n",
    "# check controllability\n",
    "Ctrb = ctrb(A, B)\n",
    "assert np.linalg.matrix_rank(Ctrb) == n\n",
    "\n",
    "# slowly time-varying dynamics\n",
    "def dyn(t, x, u):\n",
    "    epsilon = 1e-3\n",
    "    At = (1 + epsilon * t) * A\n",
    "    Bt = (1 + epsilon * t) * B\n",
    "    dxdt = At.dot(x) + Bt.dot(u)\n",
    "    return dxdt"
   ]
  },
  {
   "cell_type": "code",
   "execution_count": null,
   "metadata": {},
   "outputs": [],
   "source": [
    "# set up simulation parameter\n",
    "dt = 0.02\n",
    "tmax, tc = 20, 0.5\n",
    "T, kc = int(tmax / dt), int(tc / dt)\n",
    "tspan = np.linspace(0, tmax, T + 1)\n",
    "\n",
    "# online linear system identification setup\n",
    "alpha = 0.01 ** (2.0 / kc)\n",
    "olm = OnlineLinearModel(n, k, None, alpha)\n",
    "\n",
    "# store data mtrices\n",
    "x = np.zeros([n, T])\n",
    "u = np.zeros([k, T])\n",
    "\n",
    "# initial condition, state and control\n",
    "x0 = np.array([1, 0])\n",
    "u0 = 0\n",
    "x[:, 0] = x0\n",
    "u[:, 0] = u0"
   ]
  },
  {
   "cell_type": "code",
   "execution_count": null,
   "metadata": {},
   "outputs": [],
   "source": [
    "# uncontrolled system\n",
    "for t in range(1, T):\n",
    "    # forward the system for one step\n",
    "    x[:, t] = x[:, t - 1] + dt * dyn(t * dt, x[:, t - 1], u[:, t - 1])\n",
    "    u[:, t] = 0\n",
    "\n",
    "def plot_states_control(x, u):\n",
    "  fig, axs = plt.subplots(2, figsize=(10, 6))\n",
    "  fig.suptitle('State and control')\n",
    "  axs[0].plot(tspan[1:], x[0, :], \"b-\", linewidth=1.0, label=\"$x_1(t)$\")\n",
    "  axs[0].plot(tspan[1:], x[1, :], \"g-\", linewidth=1.0, label=\"$x_2(t)$\")\n",
    "  axs[0].legend(loc=\"best\", fontsize=12, shadow=True)\n",
    "  axs[0].grid()\n",
    "\n",
    "  axs[1].plot(tspan[1:], u.reshape(-1), \"r-\", linewidth=1.0, label=\"$u(t)$\")\n",
    "  axs[1].legend(loc=\"best\", fontsize=12, shadow=True)\n",
    "  axs[1].grid()\n",
    "\n",
    "plot_states_control(x, u)"
   ]
  },
  {
   "cell_type": "code",
   "execution_count": null,
   "metadata": {},
   "outputs": [],
   "source": [
    "# initial condition, state and control\n",
    "x[:, 0] = x0\n",
    "u[:, 0] = u0\n",
    "\n",
    "# control system simulation\n",
    "for t in range(1, T):\n",
    "    # forward the system for one step\n",
    "    x[:, t] = x[:, t - 1] + dt * dyn(t * dt, x[:, t - 1], u[:, t - 1])\n",
    "    # use new measurement to update online system identification\n",
    "    olm.update(x[:, t - 1], u[:, t - 1], x[:, t])\n",
    "    # apply control if we have collected enough data\n",
    "    if t > 2 * max(n, n + k):\n",
    "        # convert to continuous representation\n",
    "        Ac = (olm.A - np.eye(n)) / dt\n",
    "        Bc = olm.B / dt\n",
    "        # get LQR gain, output = state\n",
    "        sys = StateSpace(Ac, Bc, C, D, dt=0)\n",
    "        K, S, E = lqr(sys, np.eye(n), np.eye(k))\n",
    "        # apply control\n",
    "        u[:, t] = -1.0 * K.dot(x[:, t])\n",
    "        # clip control\n",
    "        u[:, t] = np.clip(u[:, t], -10, 10)\n",
    "        # show progress\n",
    "        if t % 100 == 0:\n",
    "          print(f\"x(t)={x[:, t]}\")\n",
    "          print(f\"u(t)={u[:, t]}\")\n",
    "          print(f\"Ac={Ac}\")\n",
    "          print(f\"Bc={Bc}\")\n",
    "          print(f\"K={K}\")\n",
    "    # random small perturbation if not enough data yet\n",
    "    else:\n",
    "        u[:, t] = 1e-1 * np.random.randn()\n",
    "\n",
    "plot_states_control(x, u)"
   ]
  },
  {
   "cell_type": "code",
   "execution_count": null,
   "metadata": {},
   "outputs": [],
   "source": []
  }
 ],
 "metadata": {
  "kernelspec": {
   "display_name": "Python 3",
   "language": "python",
   "name": "python3"
  },
  "language_info": {
   "codemirror_mode": {
    "name": "ipython",
    "version": 3
   },
   "file_extension": ".py",
   "mimetype": "text/x-python",
   "name": "python",
   "nbconvert_exporter": "python",
   "pygments_lexer": "ipython3",
   "version": "3.8.5"
  }
 },
 "nbformat": 4,
 "nbformat_minor": 4
}
